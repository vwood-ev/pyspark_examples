{
 "cells": [
  {
   "cell_type": "markdown",
   "id": "d183fc1f-47f6-456c-8fd1-21a0db30a1a3",
   "metadata": {},
   "source": [
    "# Working with fraud datasets for EDA"
   ]
  },
  {
   "cell_type": "code",
   "execution_count": null,
   "id": "4ddb9012-24ca-4043-8ed0-4c829768c37e",
   "metadata": {},
   "outputs": [],
   "source": [
    "import glob\n",
    "import numpy as np\n",
    "import pandas as pd\n",
    "import pyspark\n",
    "import urllib\n",
    "\n",
    "from pyspark.sql import SparkSession\n",
    "from pyspark.sql.functions import *\n",
    "from pyspark.ml.classification import *\n",
    "from pyspark.ml.evaluation import *\n",
    "from pyspark.ml.feature import *"
   ]
  },
  {
   "cell_type": "code",
   "execution_count": null,
   "id": "49c3aaa5-3ecb-4591-bee7-1716c073e8f2",
   "metadata": {},
   "outputs": [],
   "source": [
    "spark = SparkSession.builder.appName('eda').getOrCreate()"
   ]
  },
  {
   "cell_type": "code",
   "execution_count": null,
   "id": "9894dfcb-246a-4c9d-89fd-c99f3c7c94de",
   "metadata": {},
   "outputs": [],
   "source": [
    "# inferSchema reads the file twice, but detects numerical columns\n",
    "data = spark.read.csv('dataset/creditcard_2023.csv', header=True, inferSchema=True)\n",
    "data.printSchema()"
   ]
  },
  {
   "cell_type": "code",
   "execution_count": null,
   "id": "0aa3903d-44cc-412b-958d-8b2f8d795685",
   "metadata": {},
   "outputs": [],
   "source": [
    "# Downloaded a bunch of datasets from kaggle / similar\n",
    "glob.glob(\"dataset/*\")"
   ]
  },
  {
   "cell_type": "code",
   "execution_count": null,
   "id": "b6ad3f5d-cde4-4d37-b9cb-a548f4ac5395",
   "metadata": {},
   "outputs": [],
   "source": []
  }
 ],
 "metadata": {
  "kernelspec": {
   "display_name": "Python 3 (ipykernel)",
   "language": "python",
   "name": "python3"
  },
  "language_info": {
   "codemirror_mode": {
    "name": "ipython",
    "version": 3
   },
   "file_extension": ".py",
   "mimetype": "text/x-python",
   "name": "python",
   "nbconvert_exporter": "python",
   "pygments_lexer": "ipython3"
  }
 },
 "nbformat": 4,
 "nbformat_minor": 5
}
