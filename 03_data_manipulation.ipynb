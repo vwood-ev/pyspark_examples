{
 "cells": [
  {
   "cell_type": "code",
   "execution_count": 1,
   "id": "f148dda2-ed1d-4907-a28c-33aa075681a9",
   "metadata": {},
   "outputs": [],
   "source": [
    "import numpy as np\n",
    "import pandas as pd\n",
    "import pyspark\n",
    "import urllib\n",
    "\n",
    "from pyspark.sql import SparkSession\n",
    "from pyspark.sql.functions import *\n",
    "from pyspark.ml.classification import *\n",
    "from pyspark.ml.evaluation import *\n",
    "from pyspark.ml.feature import *"
   ]
  },
  {
   "cell_type": "code",
   "execution_count": 2,
   "id": "d15cea36-ff4f-44d3-ac10-de793dcbe928",
   "metadata": {},
   "outputs": [],
   "source": [
    "spark = SparkSession.builder.appName('example').getOrCreate()"
   ]
  },
  {
   "cell_type": "code",
   "execution_count": null,
   "id": "55eee311-2889-4dbb-b251-e821fbade4bb",
   "metadata": {},
   "outputs": [],
   "source": [
    "import urllib\n",
    "URL = \"https://archive.ics.uci.edu/ml/machine-learning-databases/iris/iris.data\"\n",
    "urllib.request.urlretrieve(URL, \"iris.csv\");"
   ]
  },
  {
   "cell_type": "code",
   "execution_count": null,
   "id": "3d2e9d44-3bd2-4754-9270-adc0ca967796",
   "metadata": {},
   "outputs": [],
   "source": [
    "columns = ['sepal-length', 'sepal-width', 'petal-length', 'petal-width', 'class']\n",
    "\n",
    "# inferSchema reads the file twice, but detects numerical columns\n",
    "data = spark.read.csv('iris.csv', header=False, inferSchema=True)\n",
    "data = data.toDF(*columns)\n",
    "data.printSchema()"
   ]
  },
  {
   "cell_type": "code",
   "execution_count": null,
   "id": "c28c1471-9fa8-460e-85e7-9673a14b45c2",
   "metadata": {},
   "outputs": [],
   "source": [
    "data.schema"
   ]
  },
  {
   "cell_type": "markdown",
   "id": "485130b9-040e-408d-a42b-c32e5179973f",
   "metadata": {},
   "source": [
    "## Create DataFrame directly"
   ]
  },
  {
   "cell_type": "code",
   "execution_count": 3,
   "id": "f734eaa7-de28-4f72-aec8-c822ac4cb03b",
   "metadata": {},
   "outputs": [],
   "source": [
    "data = [\n",
    "    ('James','','Smith','1991-04-01','M',3000),\n",
    "    ('Michael','Rose','','2000-05-19','M',4000),\n",
    "    ('Robert','','Williams','1978-09-05','M',4000),\n",
    "    ('Maria','Anne','Jones','1967-12-01','F',4000),\n",
    "    ('Jen','Mary','Brown','1980-02-17','F',-1)\n",
    "]\n",
    "\n",
    "columns = [\"firstname\", \"middlename\", \"lastname\", \"dob\", \"gender\", \"salary\"]\n",
    "\n",
    "df = spark.createDataFrame(data, schema = columns)"
   ]
  },
  {
   "cell_type": "markdown",
   "id": "73b5d76e-d65b-489e-beb5-838e0efe4ec4",
   "metadata": {},
   "source": [
    "## Create DataFrame from Pandas"
   ]
  },
  {
   "cell_type": "code",
   "execution_count": 4,
   "id": "674992fe-6d6b-4c86-8645-5433ae2276ad",
   "metadata": {},
   "outputs": [
    {
     "data": {
      "text/html": [
       "<div>\n",
       "<style scoped>\n",
       "    .dataframe tbody tr th:only-of-type {\n",
       "        vertical-align: middle;\n",
       "    }\n",
       "\n",
       "    .dataframe tbody tr th {\n",
       "        vertical-align: top;\n",
       "    }\n",
       "\n",
       "    .dataframe thead th {\n",
       "        text-align: right;\n",
       "    }\n",
       "</style>\n",
       "<table border=\"1\" class=\"dataframe\">\n",
       "  <thead>\n",
       "    <tr style=\"text-align: right;\">\n",
       "      <th></th>\n",
       "      <th>0</th>\n",
       "      <th>1</th>\n",
       "      <th>2</th>\n",
       "      <th>3</th>\n",
       "      <th>4</th>\n",
       "      <th>5</th>\n",
       "    </tr>\n",
       "  </thead>\n",
       "  <tbody>\n",
       "    <tr>\n",
       "      <th>0</th>\n",
       "      <td>James</td>\n",
       "      <td></td>\n",
       "      <td>Smith</td>\n",
       "      <td>1991-04-01</td>\n",
       "      <td>M</td>\n",
       "      <td>3000</td>\n",
       "    </tr>\n",
       "    <tr>\n",
       "      <th>1</th>\n",
       "      <td>Michael</td>\n",
       "      <td>Rose</td>\n",
       "      <td></td>\n",
       "      <td>2000-05-19</td>\n",
       "      <td>M</td>\n",
       "      <td>4000</td>\n",
       "    </tr>\n",
       "    <tr>\n",
       "      <th>2</th>\n",
       "      <td>Robert</td>\n",
       "      <td></td>\n",
       "      <td>Williams</td>\n",
       "      <td>1978-09-05</td>\n",
       "      <td>M</td>\n",
       "      <td>4000</td>\n",
       "    </tr>\n",
       "    <tr>\n",
       "      <th>3</th>\n",
       "      <td>Maria</td>\n",
       "      <td>Anne</td>\n",
       "      <td>Jones</td>\n",
       "      <td>1967-12-01</td>\n",
       "      <td>F</td>\n",
       "      <td>4000</td>\n",
       "    </tr>\n",
       "    <tr>\n",
       "      <th>4</th>\n",
       "      <td>Jen</td>\n",
       "      <td>Mary</td>\n",
       "      <td>Brown</td>\n",
       "      <td>1980-02-17</td>\n",
       "      <td>F</td>\n",
       "      <td>-1</td>\n",
       "    </tr>\n",
       "  </tbody>\n",
       "</table>\n",
       "</div>"
      ],
      "text/plain": [
       "         0     1         2           3  4     5\n",
       "0    James           Smith  1991-04-01  M  3000\n",
       "1  Michael  Rose            2000-05-19  M  4000\n",
       "2   Robert        Williams  1978-09-05  M  4000\n",
       "3    Maria  Anne     Jones  1967-12-01  F  4000\n",
       "4      Jen  Mary     Brown  1980-02-17  F    -1"
      ]
     },
     "execution_count": 4,
     "metadata": {},
     "output_type": "execute_result"
    }
   ],
   "source": [
    "pandas_df = pd.DataFrame(data)\n",
    "pandas_df"
   ]
  },
  {
   "cell_type": "code",
   "execution_count": 5,
   "id": "171d9ee9-8a22-4377-bb62-eaedf9d50dc1",
   "metadata": {},
   "outputs": [
    {
     "name": "stdout",
     "output_type": "stream",
     "text": [
      "+-------+----+--------+----------+---+----+\n",
      "|      0|   1|       2|         3|  4|   5|\n",
      "+-------+----+--------+----------+---+----+\n",
      "|  James|    |   Smith|1991-04-01|  M|3000|\n",
      "|Michael|Rose|        |2000-05-19|  M|4000|\n",
      "| Robert|    |Williams|1978-09-05|  M|4000|\n",
      "|  Maria|Anne|   Jones|1967-12-01|  F|4000|\n",
      "|    Jen|Mary|   Brown|1980-02-17|  F|  -1|\n",
      "+-------+----+--------+----------+---+----+\n",
      "\n"
     ]
    }
   ],
   "source": [
    "new_df = spark.createDataFrame(pandas_df)\n",
    "new_df.show()"
   ]
  },
  {
   "cell_type": "markdown",
   "id": "53499228-0fda-4db2-bac2-a0e26849bc69",
   "metadata": {},
   "source": [
    "## Exercises"
   ]
  },
  {
   "cell_type": "code",
   "execution_count": null,
   "id": "9d9a0b12-0197-4af4-8a16-e4a72a5c464e",
   "metadata": {},
   "outputs": [],
   "source": [
    "# iterate over lines of the dataframe, printing them out:\n",
    "\n",
    "for line in df.head(5):\n",
    "    print(line)"
   ]
  },
  {
   "cell_type": "code",
   "execution_count": null,
   "id": "44668447-924e-43f1-a83e-45784ed2460b",
   "metadata": {},
   "outputs": [],
   "source": [
    "# print out summary statistics for each column?"
   ]
  },
  {
   "cell_type": "code",
   "execution_count": 7,
   "id": "2d7cea1a-091b-488e-bdd3-1c4f6753e441",
   "metadata": {},
   "outputs": [
    {
     "name": "stdout",
     "output_type": "stream",
     "text": [
      "root\n",
      " |-- firstname: string (nullable = true)\n",
      " |-- middlename: string (nullable = true)\n",
      " |-- lastname: string (nullable = true)\n",
      " |-- dob: string (nullable = true)\n",
      " |-- gender: string (nullable = true)\n",
      " |-- salary: long (nullable = true)\n",
      "\n"
     ]
    }
   ],
   "source": [
    "df.printSchema()"
   ]
  }
 ],
 "metadata": {
  "kernelspec": {
   "display_name": "Python 3 (ipykernel)",
   "language": "python",
   "name": "python3"
  },
  "language_info": {
   "codemirror_mode": {
    "name": "ipython",
    "version": 3
   },
   "file_extension": ".py",
   "mimetype": "text/x-python",
   "name": "python",
   "nbconvert_exporter": "python",
   "pygments_lexer": "ipython3",
   "version": "3.10.6"
  }
 },
 "nbformat": 4,
 "nbformat_minor": 5
}
