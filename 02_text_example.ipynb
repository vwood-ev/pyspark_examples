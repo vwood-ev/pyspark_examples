{
 "cells": [
  {
   "cell_type": "code",
   "execution_count": 1,
   "id": "9b66a3ca-ddf1-4945-bd8b-8084cb55d17b",
   "metadata": {},
   "outputs": [],
   "source": [
    "import numpy as np\n",
    "import pandas as pd\n",
    "import pyspark\n",
    "import urllib\n",
    "\n",
    "from pyspark.sql import SparkSession\n",
    "from pyspark.sql.functions import *\n",
    "from pyspark.ml.classification import *\n",
    "from pyspark.ml.evaluation import *\n",
    "from pyspark.ml.feature import *"
   ]
  },
  {
   "cell_type": "code",
   "execution_count": 2,
   "id": "53703df4-32f1-48a5-b873-8bbe92552559",
   "metadata": {},
   "outputs": [],
   "source": [
    "spark = SparkSession.builder.appName('example').getOrCreate()"
   ]
  },
  {
   "cell_type": "code",
   "execution_count": 23,
   "id": "07d0e526-5bdf-4052-9d3c-a53a0ed68a0a",
   "metadata": {},
   "outputs": [
    {
     "data": {
      "text/plain": [
       "('./20_newsgroups.tar.gz', <http.client.HTTPMessage at 0x408342fb80>)"
      ]
     },
     "execution_count": 23,
     "metadata": {},
     "output_type": "execute_result"
    }
   ],
   "source": [
    "import urllib\n",
    "URL = \"https://archive.ics.uci.edu/ml/machine-learning-databases/20newsgroups-mld/20_newsgroups.tar.gz\"\n",
    "urllib.request.urlretrieve(URL, './20_newsgroups.tar.gz')"
   ]
  },
  {
   "cell_type": "code",
   "execution_count": 10,
   "id": "4b3b2bad-41aa-49ad-889b-b2cf9a6241dd",
   "metadata": {},
   "outputs": [
    {
     "data": {
      "text/plain": [
       "[('file:/home/jovyan/work/Iris_example.ipynb', 11758),\n",
       " ('file:/home/jovyan/work/Untitled.ipynb', 3531),\n",
       " ('file:/home/jovyan/work/iris.csv', 4551),\n",
       " ('file:/home/jovyan/work/test.txt', 14)]"
      ]
     },
     "execution_count": 10,
     "metadata": {},
     "output_type": "execute_result"
    }
   ],
   "source": [
    "# binaryFiles reads all files in the given path - returning [(filenames, bytes) ...]\n",
    "\n",
    "spark.sparkContext.binaryFiles(\"./\").map(lambda x: (x[0], len(x[1]))).collect()"
   ]
  },
  {
   "cell_type": "code",
   "execution_count": 79,
   "id": "07a49201-fc8a-4b2c-b2d6-fcd3c1151b36",
   "metadata": {},
   "outputs": [],
   "source": [
    "import tarfile\n",
    "from io import BytesIO\n",
    "\n",
    "def extract_files(data):\n",
    "    filename, bytes = data\n",
    "    tar = tarfile.open(fileobj=BytesIO(bytes), mode=\"r:gz\")\n",
    "    for x in tar:\n",
    "        if not x.isfile():\n",
    "            continue\n",
    "        yield (x.name, tar.extractfile(x).read())\n",
    "\n",
    "data = (spark.sparkContext.binaryFiles(\"./20_newsgroups.tar.gz\")\n",
    "        .flatMap(extract_files)\n",
    "        .mapValues(lambda x: x.decode(\"latin-1\")))"
   ]
  },
  {
   "cell_type": "code",
   "execution_count": 81,
   "id": "7c434470-f993-4a1f-89c0-cb99096e99a6",
   "metadata": {},
   "outputs": [
    {
     "data": {
      "text/plain": [
       "[('20_newsgroups/alt.atheism/53366', 1926),\n",
       " ('20_newsgroups/alt.atheism/53367', 2456),\n",
       " ('20_newsgroups/alt.atheism/51247', 2144),\n",
       " ('20_newsgroups/alt.atheism/51248', 929),\n",
       " ('20_newsgroups/alt.atheism/51249', 1976),\n",
       " ('20_newsgroups/alt.atheism/51250', 3325),\n",
       " ('20_newsgroups/alt.atheism/51251', 1421),\n",
       " ('20_newsgroups/alt.atheism/51252', 2310),\n",
       " ('20_newsgroups/alt.atheism/51253', 3664),\n",
       " ('20_newsgroups/alt.atheism/51254', 3392)]"
      ]
     },
     "execution_count": 81,
     "metadata": {},
     "output_type": "execute_result"
    }
   ],
   "source": [
    "data.map(lambda x: (x[0], len(x[1]))).take(10)"
   ]
  },
  {
   "cell_type": "code",
   "execution_count": 82,
   "id": "d9d8dc32-d627-48cf-95c4-8a0d29c610ff",
   "metadata": {},
   "outputs": [
    {
     "name": "stdout",
     "output_type": "stream",
     "text": [
      "(1) PythonRDD[73] at RDD at PythonRDD.scala:53 []\n",
      " |  ./20_newsgroups.tar.gz BinaryFileRDD[71] at binaryFiles at <unknown>:0 []\n"
     ]
    }
   ],
   "source": [
    "# Decent way of seeing the lineage structure of RDDs\n",
    "print(data.toDebugString().decode('utf8'))"
   ]
  },
  {
   "cell_type": "code",
   "execution_count": 83,
   "id": "e7718d13-c3e8-44dc-86ea-0e163a24589c",
   "metadata": {},
   "outputs": [],
   "source": [
    "# Convert RDD to dataframe\n",
    "\n",
    "df = data.toDF(['filename', 'bytes'])"
   ]
  },
  {
   "cell_type": "code",
   "execution_count": 84,
   "id": "af6d679a-60e4-4c51-9e7a-046d5f89ce05",
   "metadata": {},
   "outputs": [
    {
     "name": "stdout",
     "output_type": "stream",
     "text": [
      "+--------------------+--------------------+\n",
      "|            filename|               bytes|\n",
      "+--------------------+--------------------+\n",
      "|20_newsgroups/alt...|Path: cantaloupe....|\n",
      "|20_newsgroups/alt...|Xref: cantaloupe....|\n",
      "|20_newsgroups/alt...|Newsgroups: alt.a...|\n",
      "|20_newsgroups/alt...|Xref: cantaloupe....|\n",
      "|20_newsgroups/alt...|Path: cantaloupe....|\n",
      "|20_newsgroups/alt...|Newsgroups: alt.a...|\n",
      "|20_newsgroups/alt...|Newsgroups: alt.a...|\n",
      "|20_newsgroups/alt...|Xref: cantaloupe....|\n",
      "|20_newsgroups/alt...|Newsgroups: alt.a...|\n",
      "|20_newsgroups/alt...|Path: cantaloupe....|\n",
      "+--------------------+--------------------+\n",
      "only showing top 10 rows\n",
      "\n"
     ]
    }
   ],
   "source": [
    "df.show(10)"
   ]
  },
  {
   "cell_type": "code",
   "execution_count": null,
   "id": "d5ce44f6-4500-48a6-b73a-0dbe6148e3b4",
   "metadata": {},
   "outputs": [],
   "source": []
  }
 ],
 "metadata": {
  "kernelspec": {
   "display_name": "Python 3 (ipykernel)",
   "language": "python",
   "name": "python3"
  },
  "language_info": {
   "codemirror_mode": {
    "name": "ipython",
    "version": 3
   },
   "file_extension": ".py",
   "mimetype": "text/x-python",
   "name": "python",
   "nbconvert_exporter": "python",
   "pygments_lexer": "ipython3",
   "version": "3.10.6"
  }
 },
 "nbformat": 4,
 "nbformat_minor": 5
}
